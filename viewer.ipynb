{
 "cells": [
  {
   "cell_type": "code",
   "execution_count": 3,
   "metadata": {},
   "outputs": [
    {
     "ename": "RuntimeError",
     "evalue": "cannot load MPI library\nCould not find module 'C:\\Users\\lucas\\AppData\\Roaming\\Python\\DLLs' (or one of its dependencies). Try using the full path with constructor syntax.\nCould not find module 'C:\\Users\\lucas\\AppData\\Roaming\\Python\\Library\\bin' (or one of its dependencies). Try using the full path with constructor syntax.\nCould not find module 'c:\\Users\\lucas\\anaconda3\\DLLs\\impi.dll' (or one of its dependencies). Try using the full path with constructor syntax.\nCould not find module 'c:\\Users\\lucas\\anaconda3\\DLLs\\msmpi.dll' (or one of its dependencies). Try using the full path with constructor syntax.\nCould not find module 'c:\\Users\\lucas\\anaconda3\\Library\\bin\\impi.dll' (or one of its dependencies). Try using the full path with constructor syntax.\nCould not find module 'c:\\Users\\lucas\\anaconda3\\Library\\bin\\msmpi.dll' (or one of its dependencies). Try using the full path with constructor syntax.\nCould not find module 'impi.dll' (or one of its dependencies). Try using the full path with constructor syntax.\nCould not find module 'msmpi.dll' (or one of its dependencies). Try using the full path with constructor syntax.",
     "output_type": "error",
     "traceback": [
      "\u001b[1;31m---------------------------------------------------------------------------\u001b[0m",
      "\u001b[1;31mRuntimeError\u001b[0m                              Traceback (most recent call last)",
      "Cell \u001b[1;32mIn[3], line 1\u001b[0m\n\u001b[1;32m----> 1\u001b[0m \u001b[38;5;28;01mimport\u001b[39;00m \u001b[38;5;21;01mopenmdao\u001b[39;00m\u001b[38;5;21;01m.\u001b[39;00m\u001b[38;5;21;01mapi\u001b[39;00m \u001b[38;5;28;01mas\u001b[39;00m \u001b[38;5;21;01mom\u001b[39;00m\n",
      "File \u001b[1;32mc:\\Users\\lucas\\anaconda3\\Lib\\site-packages\\openmdao\\api.py:4\u001b[0m\n\u001b[0;32m      1\u001b[0m \u001b[38;5;124;03m\"\"\"Key OpenMDAO classes can be imported from here.\"\"\"\u001b[39;00m\n\u001b[0;32m      3\u001b[0m \u001b[38;5;66;03m# Core\u001b[39;00m\n\u001b[1;32m----> 4\u001b[0m \u001b[38;5;28;01mfrom\u001b[39;00m \u001b[38;5;21;01mopenmdao\u001b[39;00m\u001b[38;5;21;01m.\u001b[39;00m\u001b[38;5;21;01mcore\u001b[39;00m\u001b[38;5;21;01m.\u001b[39;00m\u001b[38;5;21;01mproblem\u001b[39;00m \u001b[38;5;28;01mimport\u001b[39;00m Problem\n\u001b[0;32m      5\u001b[0m \u001b[38;5;28;01mfrom\u001b[39;00m \u001b[38;5;21;01mopenmdao\u001b[39;00m\u001b[38;5;21;01m.\u001b[39;00m\u001b[38;5;21;01mcore\u001b[39;00m\u001b[38;5;21;01m.\u001b[39;00m\u001b[38;5;21;01mgroup\u001b[39;00m \u001b[38;5;28;01mimport\u001b[39;00m Group\n\u001b[0;32m      6\u001b[0m \u001b[38;5;28;01mfrom\u001b[39;00m \u001b[38;5;21;01mopenmdao\u001b[39;00m\u001b[38;5;21;01m.\u001b[39;00m\u001b[38;5;21;01mcore\u001b[39;00m\u001b[38;5;21;01m.\u001b[39;00m\u001b[38;5;21;01mparallel_group\u001b[39;00m \u001b[38;5;28;01mimport\u001b[39;00m ParallelGroup\n",
      "File \u001b[1;32mc:\\Users\\lucas\\anaconda3\\Lib\\site-packages\\openmdao\\core\\problem.py:24\u001b[0m\n\u001b[0;32m     21\u001b[0m \u001b[38;5;28;01mimport\u001b[39;00m \u001b[38;5;21;01mnumpy\u001b[39;00m \u001b[38;5;28;01mas\u001b[39;00m \u001b[38;5;21;01mnp\u001b[39;00m\n\u001b[0;32m     23\u001b[0m \u001b[38;5;28;01mfrom\u001b[39;00m \u001b[38;5;21;01mopenmdao\u001b[39;00m\u001b[38;5;21;01m.\u001b[39;00m\u001b[38;5;21;01mcore\u001b[39;00m\u001b[38;5;21;01m.\u001b[39;00m\u001b[38;5;21;01mconstants\u001b[39;00m \u001b[38;5;28;01mimport\u001b[39;00m _SetupStatus\n\u001b[1;32m---> 24\u001b[0m \u001b[38;5;28;01mfrom\u001b[39;00m \u001b[38;5;21;01mopenmdao\u001b[39;00m\u001b[38;5;21;01m.\u001b[39;00m\u001b[38;5;21;01mcore\u001b[39;00m\u001b[38;5;21;01m.\u001b[39;00m\u001b[38;5;21;01mcomponent\u001b[39;00m \u001b[38;5;28;01mimport\u001b[39;00m Component\n\u001b[0;32m     25\u001b[0m \u001b[38;5;28;01mfrom\u001b[39;00m \u001b[38;5;21;01mopenmdao\u001b[39;00m\u001b[38;5;21;01m.\u001b[39;00m\u001b[38;5;21;01mcore\u001b[39;00m\u001b[38;5;21;01m.\u001b[39;00m\u001b[38;5;21;01mdriver\u001b[39;00m \u001b[38;5;28;01mimport\u001b[39;00m Driver, record_iteration\n\u001b[0;32m     26\u001b[0m \u001b[38;5;28;01mfrom\u001b[39;00m \u001b[38;5;21;01mopenmdao\u001b[39;00m\u001b[38;5;21;01m.\u001b[39;00m\u001b[38;5;21;01mcore\u001b[39;00m\u001b[38;5;21;01m.\u001b[39;00m\u001b[38;5;21;01mexplicitcomponent\u001b[39;00m \u001b[38;5;28;01mimport\u001b[39;00m ExplicitComponent\n",
      "File \u001b[1;32mc:\\Users\\lucas\\anaconda3\\Lib\\site-packages\\openmdao\\core\\component.py:16\u001b[0m\n\u001b[0;32m     13\u001b[0m \u001b[38;5;28;01mfrom\u001b[39;00m \u001b[38;5;21;01mnumpy\u001b[39;00m \u001b[38;5;28;01mimport\u001b[39;00m ndarray, isscalar, ndim, atleast_1d, atleast_2d, promote_types\n\u001b[0;32m     14\u001b[0m \u001b[38;5;28;01mfrom\u001b[39;00m \u001b[38;5;21;01mscipy\u001b[39;00m\u001b[38;5;21;01m.\u001b[39;00m\u001b[38;5;21;01msparse\u001b[39;00m \u001b[38;5;28;01mimport\u001b[39;00m issparse, coo_matrix, csr_matrix\n\u001b[1;32m---> 16\u001b[0m \u001b[38;5;28;01mfrom\u001b[39;00m \u001b[38;5;21;01mopenmdao\u001b[39;00m\u001b[38;5;21;01m.\u001b[39;00m\u001b[38;5;21;01mcore\u001b[39;00m\u001b[38;5;21;01m.\u001b[39;00m\u001b[38;5;21;01msystem\u001b[39;00m \u001b[38;5;28;01mimport\u001b[39;00m System, _supported_methods, _DEFAULT_COLORING_META, \\\n\u001b[0;32m     17\u001b[0m     global_meta_names, collect_errors, _iter_derivs\n\u001b[0;32m     18\u001b[0m \u001b[38;5;28;01mfrom\u001b[39;00m \u001b[38;5;21;01mopenmdao\u001b[39;00m\u001b[38;5;21;01m.\u001b[39;00m\u001b[38;5;21;01mcore\u001b[39;00m\u001b[38;5;21;01m.\u001b[39;00m\u001b[38;5;21;01mconstants\u001b[39;00m \u001b[38;5;28;01mimport\u001b[39;00m INT_DTYPE, _DEFAULT_OUT_STREAM, _SetupStatus\n\u001b[0;32m     19\u001b[0m \u001b[38;5;28;01mfrom\u001b[39;00m \u001b[38;5;21;01mopenmdao\u001b[39;00m\u001b[38;5;21;01m.\u001b[39;00m\u001b[38;5;21;01mjacobians\u001b[39;00m\u001b[38;5;21;01m.\u001b[39;00m\u001b[38;5;21;01mdictionary_jacobian\u001b[39;00m \u001b[38;5;28;01mimport\u001b[39;00m _CheckingJacobian\n",
      "File \u001b[1;32mc:\\Users\\lucas\\anaconda3\\Lib\\site-packages\\openmdao\\core\\system.py:24\u001b[0m\n\u001b[0;32m     22\u001b[0m \u001b[38;5;28;01mfrom\u001b[39;00m \u001b[38;5;21;01mopenmdao\u001b[39;00m\u001b[38;5;21;01m.\u001b[39;00m\u001b[38;5;21;01mrecorders\u001b[39;00m\u001b[38;5;21;01m.\u001b[39;00m\u001b[38;5;21;01mrecording_manager\u001b[39;00m \u001b[38;5;28;01mimport\u001b[39;00m RecordingManager\n\u001b[0;32m     23\u001b[0m \u001b[38;5;28;01mfrom\u001b[39;00m \u001b[38;5;21;01mopenmdao\u001b[39;00m\u001b[38;5;21;01m.\u001b[39;00m\u001b[38;5;21;01mvectors\u001b[39;00m\u001b[38;5;21;01m.\u001b[39;00m\u001b[38;5;21;01mvector\u001b[39;00m \u001b[38;5;28;01mimport\u001b[39;00m _full_slice\n\u001b[1;32m---> 24\u001b[0m \u001b[38;5;28;01mfrom\u001b[39;00m \u001b[38;5;21;01mopenmdao\u001b[39;00m\u001b[38;5;21;01m.\u001b[39;00m\u001b[38;5;21;01mutils\u001b[39;00m\u001b[38;5;21;01m.\u001b[39;00m\u001b[38;5;21;01mmpi\u001b[39;00m \u001b[38;5;28;01mimport\u001b[39;00m MPI, multi_proc_exception_check\n\u001b[0;32m     25\u001b[0m \u001b[38;5;28;01mfrom\u001b[39;00m \u001b[38;5;21;01mopenmdao\u001b[39;00m\u001b[38;5;21;01m.\u001b[39;00m\u001b[38;5;21;01mutils\u001b[39;00m\u001b[38;5;21;01m.\u001b[39;00m\u001b[38;5;21;01moptions_dictionary\u001b[39;00m \u001b[38;5;28;01mimport\u001b[39;00m OptionsDictionary\n\u001b[0;32m     26\u001b[0m \u001b[38;5;28;01mfrom\u001b[39;00m \u001b[38;5;21;01mopenmdao\u001b[39;00m\u001b[38;5;21;01m.\u001b[39;00m\u001b[38;5;21;01mutils\u001b[39;00m\u001b[38;5;21;01m.\u001b[39;00m\u001b[38;5;21;01mrecord_util\u001b[39;00m \u001b[38;5;28;01mimport\u001b[39;00m create_local_meta, check_path, has_match\n",
      "File \u001b[1;32mc:\\Users\\lucas\\anaconda3\\Lib\\site-packages\\openmdao\\utils\\mpi.py:101\u001b[0m\n\u001b[0;32m     99\u001b[0m \u001b[38;5;28;01melse\u001b[39;00m:\n\u001b[0;32m    100\u001b[0m     \u001b[38;5;28;01mtry\u001b[39;00m:\n\u001b[1;32m--> 101\u001b[0m         \u001b[38;5;28;01mfrom\u001b[39;00m \u001b[38;5;21;01mmpi4py\u001b[39;00m \u001b[38;5;28;01mimport\u001b[39;00m MPI\n\u001b[0;32m    103\u001b[0m         \u001b[38;5;66;03m# If the import succeeds, but it doesn't look like a parallel\u001b[39;00m\n\u001b[0;32m    104\u001b[0m         \u001b[38;5;66;03m# run was intended, don't use MPI\u001b[39;00m\n\u001b[0;32m    105\u001b[0m         \u001b[38;5;28;01mif\u001b[39;00m MPI\u001b[38;5;241m.\u001b[39mCOMM_WORLD\u001b[38;5;241m.\u001b[39msize \u001b[38;5;241m==\u001b[39m \u001b[38;5;241m1\u001b[39m:\n",
      "File \u001b[1;32m<frozen importlib._bootstrap>:1360\u001b[0m, in \u001b[0;36m_find_and_load\u001b[1;34m(name, import_)\u001b[0m\n",
      "File \u001b[1;32m<frozen importlib._bootstrap>:1322\u001b[0m, in \u001b[0;36m_find_and_load_unlocked\u001b[1;34m(name, import_)\u001b[0m\n",
      "File \u001b[1;32m<frozen importlib._bootstrap>:1262\u001b[0m, in \u001b[0;36m_find_spec\u001b[1;34m(name, path, target)\u001b[0m\n",
      "File \u001b[1;32mc:\\Users\\lucas\\anaconda3\\Lib\\site-packages\\mpi4py\\_mpiabi.py:246\u001b[0m, in \u001b[0;36m_Finder.find_spec\u001b[1;34m(cls, fullname, path, target)\u001b[0m\n\u001b[0;32m    244\u001b[0m \u001b[38;5;250m\u001b[39m\u001b[38;5;124;03m\"\"\"Find MPI ABI extension module spec.\"\"\"\u001b[39;00m\n\u001b[0;32m    245\u001b[0m \u001b[38;5;66;03m# pylint: disable=unused-argument\u001b[39;00m\n\u001b[1;32m--> 246\u001b[0m mpiabi_suffix \u001b[38;5;241m=\u001b[39m \u001b[43m_get_mpiabi_suffix\u001b[49m\u001b[43m(\u001b[49m\u001b[43mfullname\u001b[49m\u001b[43m)\u001b[49m\n\u001b[0;32m    247\u001b[0m \u001b[38;5;28;01mif\u001b[39;00m mpiabi_suffix \u001b[38;5;129;01mis\u001b[39;00m \u001b[38;5;28;01mNone\u001b[39;00m:\n\u001b[0;32m    248\u001b[0m     \u001b[38;5;28;01mreturn\u001b[39;00m \u001b[38;5;28;01mNone\u001b[39;00m\n",
      "File \u001b[1;32mc:\\Users\\lucas\\anaconda3\\Lib\\site-packages\\mpi4py\\_mpiabi.py:228\u001b[0m, in \u001b[0;36m_get_mpiabi_suffix\u001b[1;34m(module)\u001b[0m\n\u001b[0;32m    226\u001b[0m \u001b[38;5;28;01mif\u001b[39;00m module \u001b[38;5;129;01mnot\u001b[39;00m \u001b[38;5;129;01min\u001b[39;00m _registry:\n\u001b[0;32m    227\u001b[0m     \u001b[38;5;28;01mreturn\u001b[39;00m \u001b[38;5;28;01mNone\u001b[39;00m\n\u001b[1;32m--> 228\u001b[0m version, family \u001b[38;5;241m=\u001b[39m \u001b[43m_get_mpiabi\u001b[49m\u001b[43m(\u001b[49m\u001b[43m)\u001b[49m\n\u001b[0;32m    229\u001b[0m versions \u001b[38;5;241m=\u001b[39m _registry[module]\u001b[38;5;241m.\u001b[39mget(family)\n\u001b[0;32m    230\u001b[0m \u001b[38;5;28;01mif\u001b[39;00m versions:\n",
      "File \u001b[1;32mc:\\Users\\lucas\\anaconda3\\Lib\\site-packages\\mpi4py\\_mpiabi.py:209\u001b[0m, in \u001b[0;36m_get_mpiabi\u001b[1;34m()\u001b[0m\n\u001b[0;32m    207\u001b[0m     version, family \u001b[38;5;241m=\u001b[39m _get_mpiabi_from_string(string)\n\u001b[0;32m    208\u001b[0m \u001b[38;5;28;01melse\u001b[39;00m:\n\u001b[1;32m--> 209\u001b[0m     version, family \u001b[38;5;241m=\u001b[39m \u001b[43m_get_mpiabi_from_libmpi\u001b[49m\u001b[43m(\u001b[49m\u001b[43mlibmpi\u001b[49m\u001b[43m)\u001b[49m\n\u001b[0;32m    210\u001b[0m _get_mpiabi\u001b[38;5;241m.\u001b[39mversion \u001b[38;5;241m=\u001b[39m version  \u001b[38;5;66;03m# pyright: ignore\u001b[39;00m\n\u001b[0;32m    211\u001b[0m _get_mpiabi\u001b[38;5;241m.\u001b[39mfamily \u001b[38;5;241m=\u001b[39m family  \u001b[38;5;66;03m# pyright: ignore\u001b[39;00m\n",
      "File \u001b[1;32mc:\\Users\\lucas\\anaconda3\\Lib\\site-packages\\mpi4py\\_mpiabi.py:153\u001b[0m, in \u001b[0;36m_get_mpiabi_from_libmpi\u001b[1;34m(libmpi)\u001b[0m\n\u001b[0;32m    150\u001b[0m \u001b[38;5;28;01mdef\u001b[39;00m \u001b[38;5;21m_get_mpiabi_from_libmpi\u001b[39m(libmpi\u001b[38;5;241m=\u001b[39m\u001b[38;5;28;01mNone\u001b[39;00m):\n\u001b[0;32m    151\u001b[0m     \u001b[38;5;66;03m# pylint: disable=import-outside-toplevel\u001b[39;00m\n\u001b[0;32m    152\u001b[0m     \u001b[38;5;28;01mimport\u001b[39;00m \u001b[38;5;21;01mctypes\u001b[39;00m \u001b[38;5;28;01mas\u001b[39;00m \u001b[38;5;21;01mct\u001b[39;00m\n\u001b[1;32m--> 153\u001b[0m     lib \u001b[38;5;241m=\u001b[39m \u001b[43m_dlopen_libmpi\u001b[49m\u001b[43m(\u001b[49m\u001b[43mlibmpi\u001b[49m\u001b[43m)\u001b[49m\n\u001b[0;32m    154\u001b[0m     lib\u001b[38;5;241m.\u001b[39mMPI_Get_version\u001b[38;5;241m.\u001b[39mrestype \u001b[38;5;241m=\u001b[39m ct\u001b[38;5;241m.\u001b[39mc_int\n\u001b[0;32m    155\u001b[0m     lib\u001b[38;5;241m.\u001b[39mMPI_Get_version\u001b[38;5;241m.\u001b[39margtypes \u001b[38;5;241m=\u001b[39m [ct\u001b[38;5;241m.\u001b[39mPOINTER(ct\u001b[38;5;241m.\u001b[39mc_int)] \u001b[38;5;241m*\u001b[39m \u001b[38;5;241m2\u001b[39m\n",
      "File \u001b[1;32mc:\\Users\\lucas\\anaconda3\\Lib\\site-packages\\mpi4py\\_mpiabi.py:144\u001b[0m, in \u001b[0;36m_dlopen_libmpi\u001b[1;34m(libmpi)\u001b[0m\n\u001b[0;32m    142\u001b[0m     \u001b[38;5;28;01mexcept\u001b[39;00m \u001b[38;5;167;01mAttributeError\u001b[39;00m \u001b[38;5;28;01mas\u001b[39;00m exc:\n\u001b[0;32m    143\u001b[0m         errors\u001b[38;5;241m.\u001b[39mappend(\u001b[38;5;28mstr\u001b[39m(exc))\n\u001b[1;32m--> 144\u001b[0m \u001b[38;5;28;01mraise\u001b[39;00m \u001b[38;5;167;01mRuntimeError\u001b[39;00m(\u001b[38;5;124m\"\u001b[39m\u001b[38;5;130;01m\\n\u001b[39;00m\u001b[38;5;124m\"\u001b[39m\u001b[38;5;241m.\u001b[39mjoin(errors))\n",
      "\u001b[1;31mRuntimeError\u001b[0m: cannot load MPI library\nCould not find module 'C:\\Users\\lucas\\AppData\\Roaming\\Python\\DLLs' (or one of its dependencies). Try using the full path with constructor syntax.\nCould not find module 'C:\\Users\\lucas\\AppData\\Roaming\\Python\\Library\\bin' (or one of its dependencies). Try using the full path with constructor syntax.\nCould not find module 'c:\\Users\\lucas\\anaconda3\\DLLs\\impi.dll' (or one of its dependencies). Try using the full path with constructor syntax.\nCould not find module 'c:\\Users\\lucas\\anaconda3\\DLLs\\msmpi.dll' (or one of its dependencies). Try using the full path with constructor syntax.\nCould not find module 'c:\\Users\\lucas\\anaconda3\\Library\\bin\\impi.dll' (or one of its dependencies). Try using the full path with constructor syntax.\nCould not find module 'c:\\Users\\lucas\\anaconda3\\Library\\bin\\msmpi.dll' (or one of its dependencies). Try using the full path with constructor syntax.\nCould not find module 'impi.dll' (or one of its dependencies). Try using the full path with constructor syntax.\nCould not find module 'msmpi.dll' (or one of its dependencies). Try using the full path with constructor syntax."
     ]
    }
   ],
   "source": [
    "import openmdao.api as om"
   ]
  },
  {
   "cell_type": "code",
   "execution_count": null,
   "metadata": {},
   "outputs": [
    {
     "ename": "NameError",
     "evalue": "name 'om' is not defined",
     "output_type": "error",
     "traceback": [
      "\u001b[1;31m---------------------------------------------------------------------------\u001b[0m",
      "\u001b[1;31mNameError\u001b[0m                                 Traceback (most recent call last)",
      "Cell \u001b[1;32mIn[1], line 1\u001b[0m\n\u001b[1;32m----> 1\u001b[0m \u001b[43mom\u001b[49m\u001b[38;5;241m.\u001b[39mCaseViewer(\u001b[38;5;124m'\u001b[39m\u001b[38;5;124m./run.db\u001b[39m\u001b[38;5;124m'\u001b[39m)\n",
      "\u001b[1;31mNameError\u001b[0m: name 'om' is not defined"
     ]
    }
   ],
   "source": [
    "om.CaseViewer('./runFXfoil.db')"
   ]
  }
 ],
 "metadata": {
  "kernelspec": {
   "display_name": "base",
   "language": "python",
   "name": "python3"
  },
  "language_info": {
   "codemirror_mode": {
    "name": "ipython",
    "version": 3
   },
   "file_extension": ".py",
   "mimetype": "text/x-python",
   "name": "python",
   "nbconvert_exporter": "python",
   "pygments_lexer": "ipython3",
   "version": "3.12.7"
  },
  "orig_nbformat": 4
 },
 "nbformat": 4,
 "nbformat_minor": 2
}
